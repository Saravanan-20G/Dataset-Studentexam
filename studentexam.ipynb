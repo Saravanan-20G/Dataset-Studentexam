{
 "cells": [
  {
   "cell_type": "markdown",
   "metadata": {},
   "source": [
    "# Liabrary"
   ]
  },
  {
   "cell_type": "code",
   "execution_count": 16,
   "metadata": {},
   "outputs": [],
   "source": [
    "import pandas as pd\n",
    "import numpy as np\n",
    "\n",
    "#Statistic\n",
    "from scipy import stats\n",
    "\n",
    "# Visualization\n",
    "import plotly.express as px\n",
    "import matplotlib.pyplot as plt"
   ]
  },
  {
   "cell_type": "markdown",
   "metadata": {},
   "source": [
    "# Dataframe"
   ]
  },
  {
   "cell_type": "code",
   "execution_count": 4,
   "metadata": {},
   "outputs": [],
   "source": [
    "df=pd.read_csv(\"C:\\\\Users\\\\Saravanan\\\\OneDrive\\\\Desktop\\\\Datasets_data\\\\student_exam_data.csv\")"
   ]
  },
  {
   "cell_type": "code",
   "execution_count": 5,
   "metadata": {},
   "outputs": [
    {
     "data": {
      "text/html": [
       "<div>\n",
       "<style scoped>\n",
       "    .dataframe tbody tr th:only-of-type {\n",
       "        vertical-align: middle;\n",
       "    }\n",
       "\n",
       "    .dataframe tbody tr th {\n",
       "        vertical-align: top;\n",
       "    }\n",
       "\n",
       "    .dataframe thead th {\n",
       "        text-align: right;\n",
       "    }\n",
       "</style>\n",
       "<table border=\"1\" class=\"dataframe\">\n",
       "  <thead>\n",
       "    <tr style=\"text-align: right;\">\n",
       "      <th></th>\n",
       "      <th>Study Hours</th>\n",
       "      <th>Previous Exam Score</th>\n",
       "      <th>Pass/Fail</th>\n",
       "    </tr>\n",
       "  </thead>\n",
       "  <tbody>\n",
       "    <tr>\n",
       "      <th>0</th>\n",
       "      <td>4.370861</td>\n",
       "      <td>81.889703</td>\n",
       "      <td>0</td>\n",
       "    </tr>\n",
       "    <tr>\n",
       "      <th>1</th>\n",
       "      <td>9.556429</td>\n",
       "      <td>72.165782</td>\n",
       "      <td>1</td>\n",
       "    </tr>\n",
       "    <tr>\n",
       "      <th>2</th>\n",
       "      <td>7.587945</td>\n",
       "      <td>58.571657</td>\n",
       "      <td>0</td>\n",
       "    </tr>\n",
       "    <tr>\n",
       "      <th>3</th>\n",
       "      <td>6.387926</td>\n",
       "      <td>88.827701</td>\n",
       "      <td>1</td>\n",
       "    </tr>\n",
       "    <tr>\n",
       "      <th>4</th>\n",
       "      <td>2.404168</td>\n",
       "      <td>81.083870</td>\n",
       "      <td>0</td>\n",
       "    </tr>\n",
       "    <tr>\n",
       "      <th>...</th>\n",
       "      <td>...</td>\n",
       "      <td>...</td>\n",
       "      <td>...</td>\n",
       "    </tr>\n",
       "    <tr>\n",
       "      <th>495</th>\n",
       "      <td>4.180170</td>\n",
       "      <td>45.494924</td>\n",
       "      <td>0</td>\n",
       "    </tr>\n",
       "    <tr>\n",
       "      <th>496</th>\n",
       "      <td>6.252905</td>\n",
       "      <td>95.038815</td>\n",
       "      <td>1</td>\n",
       "    </tr>\n",
       "    <tr>\n",
       "      <th>497</th>\n",
       "      <td>1.699612</td>\n",
       "      <td>48.209118</td>\n",
       "      <td>0</td>\n",
       "    </tr>\n",
       "    <tr>\n",
       "      <th>498</th>\n",
       "      <td>9.769553</td>\n",
       "      <td>97.014241</td>\n",
       "      <td>1</td>\n",
       "    </tr>\n",
       "    <tr>\n",
       "      <th>499</th>\n",
       "      <td>9.875897</td>\n",
       "      <td>66.760346</td>\n",
       "      <td>1</td>\n",
       "    </tr>\n",
       "  </tbody>\n",
       "</table>\n",
       "<p>500 rows × 3 columns</p>\n",
       "</div>"
      ],
      "text/plain": [
       "     Study Hours  Previous Exam Score  Pass/Fail\n",
       "0       4.370861            81.889703          0\n",
       "1       9.556429            72.165782          1\n",
       "2       7.587945            58.571657          0\n",
       "3       6.387926            88.827701          1\n",
       "4       2.404168            81.083870          0\n",
       "..           ...                  ...        ...\n",
       "495     4.180170            45.494924          0\n",
       "496     6.252905            95.038815          1\n",
       "497     1.699612            48.209118          0\n",
       "498     9.769553            97.014241          1\n",
       "499     9.875897            66.760346          1\n",
       "\n",
       "[500 rows x 3 columns]"
      ]
     },
     "execution_count": 5,
     "metadata": {},
     "output_type": "execute_result"
    }
   ],
   "source": [
    "df"
   ]
  },
  {
   "cell_type": "markdown",
   "metadata": {},
   "source": [
    "# Observation"
   ]
  },
  {
   "cell_type": "markdown",
   "metadata": {},
   "source": [
    "Dependent - Pass/Fail\n",
    "Independent - Study Hours,Previous Exam Score\n",
    "\n",
    "Continuous column - Study Hours,Previous Exam Score\n",
    "Catagory column - Pass/Fail\n",
    "\n",
    "# Supervised binery classification"
   ]
  },
  {
   "cell_type": "markdown",
   "metadata": {},
   "source": [
    "# Data Cleaning "
   ]
  },
  {
   "cell_type": "code",
   "execution_count": 4,
   "metadata": {},
   "outputs": [
    {
     "name": "stdout",
     "output_type": "stream",
     "text": [
      "<class 'pandas.core.frame.DataFrame'>\n",
      "RangeIndex: 500 entries, 0 to 499\n",
      "Data columns (total 3 columns):\n",
      " #   Column               Non-Null Count  Dtype  \n",
      "---  ------               --------------  -----  \n",
      " 0   Study Hours          500 non-null    float64\n",
      " 1   Previous Exam Score  500 non-null    float64\n",
      " 2   Pass/Fail            500 non-null    int64  \n",
      "dtypes: float64(2), int64(1)\n",
      "memory usage: 11.8 KB\n"
     ]
    }
   ],
   "source": [
    "df.info()"
   ]
  },
  {
   "cell_type": "code",
   "execution_count": 5,
   "metadata": {},
   "outputs": [
    {
     "data": {
      "text/plain": [
       "Study Hours            0\n",
       "Previous Exam Score    0\n",
       "Pass/Fail              0\n",
       "dtype: int64"
      ]
     },
     "execution_count": 5,
     "metadata": {},
     "output_type": "execute_result"
    }
   ],
   "source": [
    "df.isnull().sum()"
   ]
  },
  {
   "cell_type": "markdown",
   "metadata": {},
   "source": [
    "# Hypothesis Testing\n",
    "\n",
    "Continuous column - Central Limit Theorem, 1-Tailed Test (one-sample t-test)\n",
    "\n",
    "Continuous vs. Continuous - Correlation, 2-Tailed Test (two-sample t-test)\n",
    "\n",
    "Continuous vs. Categorical - ANOVA (Analysis of Variance)\n",
    "\n",
    "Categorical vs. Categorical - Chi-Square Test"
   ]
  },
  {
   "cell_type": "code",
   "execution_count": 6,
   "metadata": {},
   "outputs": [
    {
     "data": {
      "text/html": [
       "<div>\n",
       "<style scoped>\n",
       "    .dataframe tbody tr th:only-of-type {\n",
       "        vertical-align: middle;\n",
       "    }\n",
       "\n",
       "    .dataframe tbody tr th {\n",
       "        vertical-align: top;\n",
       "    }\n",
       "\n",
       "    .dataframe thead th {\n",
       "        text-align: right;\n",
       "    }\n",
       "</style>\n",
       "<table border=\"1\" class=\"dataframe\">\n",
       "  <thead>\n",
       "    <tr style=\"text-align: right;\">\n",
       "      <th></th>\n",
       "      <th>Study Hours</th>\n",
       "      <th>Previous Exam Score</th>\n",
       "      <th>Pass/Fail</th>\n",
       "    </tr>\n",
       "  </thead>\n",
       "  <tbody>\n",
       "    <tr>\n",
       "      <th>Study Hours</th>\n",
       "      <td>1.000000</td>\n",
       "      <td>0.010354</td>\n",
       "      <td>0.583505</td>\n",
       "    </tr>\n",
       "    <tr>\n",
       "      <th>Previous Exam Score</th>\n",
       "      <td>0.010354</td>\n",
       "      <td>1.000000</td>\n",
       "      <td>0.443706</td>\n",
       "    </tr>\n",
       "    <tr>\n",
       "      <th>Pass/Fail</th>\n",
       "      <td>0.583505</td>\n",
       "      <td>0.443706</td>\n",
       "      <td>1.000000</td>\n",
       "    </tr>\n",
       "  </tbody>\n",
       "</table>\n",
       "</div>"
      ],
      "text/plain": [
       "                     Study Hours  Previous Exam Score  Pass/Fail\n",
       "Study Hours             1.000000             0.010354   0.583505\n",
       "Previous Exam Score     0.010354             1.000000   0.443706\n",
       "Pass/Fail               0.583505             0.443706   1.000000"
      ]
     },
     "execution_count": 6,
     "metadata": {},
     "output_type": "execute_result"
    }
   ],
   "source": [
    "df.corr()"
   ]
  },
  {
   "cell_type": "markdown",
   "metadata": {},
   "source": [
    "# Central limit theoram\n",
    "\n",
    "Study Hours - population_mean : 40.106 sample_mean : 40.1015\n",
    "\n",
    "Previous Exam Score - population_mean : 72689.0 sample_mean : 72425.16666666667\n",
    "\n",
    "# 1 tailed test\n",
    "age- H0 is rejected, Ha is accepted, There is a significant effect\n",
    "\n",
    "Annual - H0 is rejected, Ha is accepted, There is a significant effect\n",
    "\n",
    "# 2 tailed test \n",
    "H0 is rejected, There is no relationship between two columns we're comparing.\n",
    "\n",
    "# Chi sqi test\n",
    "H0 is accepted, There is no relationship between two columns we're comparing\n",
    "\n",
    "# Anova\n",
    "Pass/Fail,age - H0 is rejected , There is no relationship between two columns we're comparing\n",
    "\n",
    "Gender,annual- H0 is rejected , There is no relationship between two columns we're comparing\n",
    "\n",
    "purchased,age - H0 is rejected , There is no relationship between two columns we're comparing\n",
    "\n",
    "purchased,annual - H0 is rejected , There is no relationship between two columns we're comparing"
   ]
  },
  {
   "cell_type": "code",
   "execution_count": 10,
   "metadata": {},
   "outputs": [],
   "source": [
    "continuous_columns = [\"Study Hours\", \"Previous Exam Score\"]\n",
    "category_columns = [\"Pass/Fail\"]"
   ]
  },
  {
   "cell_type": "code",
   "execution_count": 11,
   "metadata": {},
   "outputs": [],
   "source": [
    "def hypothesisTesting(continuous_columns = [], category_columns = [], sampling_rate = 0.20, sampling_frac=0.05):\n",
    "  #Central Limit Theorem\n",
    "  oneContinesColumn_result = {}\n",
    "  hypothesis_df = pd.DataFrame(columns=df.columns, index=df.columns)\n",
    "  if continuous_columns:\n",
    "    samplesize = int(sampling_rate * len(df[continuous_columns[0]]))\n",
    "    for column in continuous_columns:\n",
    "      population=df[column].values\n",
    "      population_mean = population.mean()\n",
    "      sample_mean=[]\n",
    "      for i in range(40):\n",
    "        sample=np.random.choice(population,samplesize)\n",
    "        sample_mean.append(sample.mean())\n",
    "      oneContinesColumn_result[column] = {\n",
    "                                          \"Population Mean\": population_mean,\n",
    "                                          \"Sample Means\": {np.mean(sample_mean)}\n",
    "                                          }\n",
    "\n",
    "  #1-Tailed Test\n",
    "  if continuous_columns:\n",
    "    samplesize = int(sampling_rate * len(df[continuous_columns[0]]))\n",
    "    for column in continuous_columns:\n",
    "      H0_accepted = 0\n",
    "      H0_rejected = 0\n",
    "      for i in range(samplesize):\n",
    "        sample=df[column].sample(frac=sampling_frac)\n",
    "        t_test,p_value=stats.ttest_1samp(sample,df[column].mean())\n",
    "        if p_value > 0.5:\n",
    "          H0_accepted += 1\n",
    "        else:\n",
    "          H0_rejected += 1\n",
    "\n",
    "      if H0_accepted > H0_rejected:\n",
    "          oneContinesColumn_result[column].update( {\n",
    "                                            \"H0_accepted\": H0_accepted,\n",
    "                                            \"H0_rejected\": H0_rejected,\n",
    "                                            \"Conclusion\": \"H0 is accepted, Ha is rejected, There is no significant effect\"\n",
    "                                          } )\n",
    "          hypothesis_df[column][column] = \"There is a relationship\"\n",
    "\n",
    "      else:\n",
    "          oneContinesColumn_result[column].update( {\n",
    "                                              \"H0_accepted\": H0_accepted,\n",
    "                                              \"H0_rejected\": H0_rejected,\n",
    "                                              \"Conclusion\": \"H0 is rejected, Ha is accepted, There is a significant effect\"\n",
    "                                              } )\n",
    "          hypothesis_df[column][column] = \"There is no relationship\"\n",
    "\n",
    "\n",
    "  #2-Tailed Test\n",
    "  for i in range(len(continuous_columns) - 1):\n",
    "      column_1 = continuous_columns[i]\n",
    "      for column_2 in continuous_columns[i+1:]:\n",
    "        H0_accepted = 0\n",
    "        H0_rejected = 0\n",
    "        for i in range(20):\n",
    "          sample1 = df[column_1].sample(frac=sampling_frac)\n",
    "          sample2 = df[column_2].sample(frac=sampling_frac)\n",
    "          t_test, p_value = stats.ttest_ind(sample1, sample2)\n",
    "          if p_value > 0.5:\n",
    "            H0_accepted += 1\n",
    "          else:\n",
    "            H0_rejected += 1\n",
    "\n",
    "        if H0_accepted > H0_rejected:\n",
    "          #H0 is accepted, Ha is rejected, There is no significant effect. \"H0_accepted\": H0_accepted, \"H0_rejected\": H0_rejected\n",
    "          hypothesis_df[column_1][column_2] = \"There is a relationship\"\n",
    "          hypothesis_df[column_2][column_1] = \"There is a relationship\"\n",
    "        else:\n",
    "          #H0 is rejected, Ha is accepted, There is a significant effect. \"H0_accepted\": H0_accepted, \"H0_rejected\": H0_rejected\n",
    "            hypothesis_df[column_1][column_2] = \"There is no relationship\"\n",
    "            hypothesis_df[column_2][column_1] = \"There is no relationship\"\n",
    "\n",
    "  #Chi-Square Test\n",
    "  if category_columns:\n",
    "    for i in range(len(category_columns) - 1):\n",
    "        column_1 = category_columns[i]\n",
    "        for column_2 in category_columns[i + 1:]:\n",
    "            data = pd.crosstab(df[column_1], df[column_2])\n",
    "            observed_values = data.values\n",
    "            chi2_stat, p_value, _, _ = stats.chi2_contingency(observed_values)\n",
    "\n",
    "            if p_value > 0.05:\n",
    "                # H0 is accepted, There is no relationship between two columns we're comparing\n",
    "                hypothesis_df[column_1][column_2] = \"There is no relationship\"\n",
    "                hypothesis_df[column_2][column_1] = \"There is no relationship\"\n",
    "            else:\n",
    "                # H0 is rejected, There is a relationship between two columns we're comparing\n",
    "                hypothesis_df[column_1][column_2] = \"There is a relationship\"\n",
    "                hypothesis_df[column_2][column_1] = \"There is a relationship\"\n",
    "\n",
    "  #ANOVA\n",
    "  if continuous_columns and category_columns:\n",
    "    for category_column in category_columns:\n",
    "      for continuous_column in continuous_columns:\n",
    "        group = df[category_column].unique()\n",
    "        data = {}\n",
    "        for i in group:\n",
    "          data[i]=df[continuous_column][df[category_column]==i]\n",
    "\n",
    "        f_value, p_value = stats.f_oneway(*[data[i] for i in group])\n",
    "        if p_value > 0.05:\n",
    "            # H0 is accepted, There is a relationship between two columns we're comparing\n",
    "            hypothesis_df[category_column][continuous_column] = \"There is a relationship\"\n",
    "            hypothesis_df[continuous_column][category_column] = \"There is a relationship\"\n",
    "        else:\n",
    "            # H0 is rejected, There is no relationship between two columns we're comparing\n",
    "            hypothesis_df[category_column][continuous_column] = \"There is no relationship\"\n",
    "            hypothesis_df[continuous_column][category_column] = \"There is no relationship\"\n",
    "\n",
    "  return oneContinesColumn_result, hypothesis_df"
   ]
  },
  {
   "cell_type": "code",
   "execution_count": 12,
   "metadata": {},
   "outputs": [
    {
     "name": "stderr",
     "output_type": "stream",
     "text": [
      "C:\\Users\\Saravanan\\AppData\\Local\\Temp\\ipykernel_13580\\3974279167.py:39: FutureWarning: ChainedAssignmentError: behaviour will change in pandas 3.0!\n",
      "You are setting values through chained assignment. Currently this works in certain cases, but when using Copy-on-Write (which will become the default behaviour in pandas 3.0) this will never work to update the original DataFrame or Series, because the intermediate object on which we are setting values will behave as a copy.\n",
      "A typical example is when you are setting values in a column of a DataFrame, like:\n",
      "\n",
      "df[\"col\"][row_indexer] = value\n",
      "\n",
      "Use `df.loc[row_indexer, \"col\"] = values` instead, to perform the assignment in a single step and ensure this keeps updating the original `df`.\n",
      "\n",
      "See the caveats in the documentation: https://pandas.pydata.org/pandas-docs/stable/user_guide/indexing.html#returning-a-view-versus-a-copy\n",
      "\n",
      "  hypothesis_df[column][column] = \"There is a relationship\"\n",
      "C:\\Users\\Saravanan\\AppData\\Local\\Temp\\ipykernel_13580\\3974279167.py:47: FutureWarning: ChainedAssignmentError: behaviour will change in pandas 3.0!\n",
      "You are setting values through chained assignment. Currently this works in certain cases, but when using Copy-on-Write (which will become the default behaviour in pandas 3.0) this will never work to update the original DataFrame or Series, because the intermediate object on which we are setting values will behave as a copy.\n",
      "A typical example is when you are setting values in a column of a DataFrame, like:\n",
      "\n",
      "df[\"col\"][row_indexer] = value\n",
      "\n",
      "Use `df.loc[row_indexer, \"col\"] = values` instead, to perform the assignment in a single step and ensure this keeps updating the original `df`.\n",
      "\n",
      "See the caveats in the documentation: https://pandas.pydata.org/pandas-docs/stable/user_guide/indexing.html#returning-a-view-versus-a-copy\n",
      "\n",
      "  hypothesis_df[column][column] = \"There is no relationship\"\n",
      "C:\\Users\\Saravanan\\AppData\\Local\\Temp\\ipykernel_13580\\3974279167.py:71: FutureWarning: ChainedAssignmentError: behaviour will change in pandas 3.0!\n",
      "You are setting values through chained assignment. Currently this works in certain cases, but when using Copy-on-Write (which will become the default behaviour in pandas 3.0) this will never work to update the original DataFrame or Series, because the intermediate object on which we are setting values will behave as a copy.\n",
      "A typical example is when you are setting values in a column of a DataFrame, like:\n",
      "\n",
      "df[\"col\"][row_indexer] = value\n",
      "\n",
      "Use `df.loc[row_indexer, \"col\"] = values` instead, to perform the assignment in a single step and ensure this keeps updating the original `df`.\n",
      "\n",
      "See the caveats in the documentation: https://pandas.pydata.org/pandas-docs/stable/user_guide/indexing.html#returning-a-view-versus-a-copy\n",
      "\n",
      "  hypothesis_df[column_1][column_2] = \"There is no relationship\"\n",
      "C:\\Users\\Saravanan\\AppData\\Local\\Temp\\ipykernel_13580\\3974279167.py:72: FutureWarning: ChainedAssignmentError: behaviour will change in pandas 3.0!\n",
      "You are setting values through chained assignment. Currently this works in certain cases, but when using Copy-on-Write (which will become the default behaviour in pandas 3.0) this will never work to update the original DataFrame or Series, because the intermediate object on which we are setting values will behave as a copy.\n",
      "A typical example is when you are setting values in a column of a DataFrame, like:\n",
      "\n",
      "df[\"col\"][row_indexer] = value\n",
      "\n",
      "Use `df.loc[row_indexer, \"col\"] = values` instead, to perform the assignment in a single step and ensure this keeps updating the original `df`.\n",
      "\n",
      "See the caveats in the documentation: https://pandas.pydata.org/pandas-docs/stable/user_guide/indexing.html#returning-a-view-versus-a-copy\n",
      "\n",
      "  hypothesis_df[column_2][column_1] = \"There is no relationship\"\n",
      "C:\\Users\\Saravanan\\AppData\\Local\\Temp\\ipykernel_13580\\3974279167.py:108: FutureWarning: ChainedAssignmentError: behaviour will change in pandas 3.0!\n",
      "You are setting values through chained assignment. Currently this works in certain cases, but when using Copy-on-Write (which will become the default behaviour in pandas 3.0) this will never work to update the original DataFrame or Series, because the intermediate object on which we are setting values will behave as a copy.\n",
      "A typical example is when you are setting values in a column of a DataFrame, like:\n",
      "\n",
      "df[\"col\"][row_indexer] = value\n",
      "\n",
      "Use `df.loc[row_indexer, \"col\"] = values` instead, to perform the assignment in a single step and ensure this keeps updating the original `df`.\n",
      "\n",
      "See the caveats in the documentation: https://pandas.pydata.org/pandas-docs/stable/user_guide/indexing.html#returning-a-view-versus-a-copy\n",
      "\n",
      "  hypothesis_df[category_column][continuous_column] = \"There is no relationship\"\n",
      "C:\\Users\\Saravanan\\AppData\\Local\\Temp\\ipykernel_13580\\3974279167.py:109: FutureWarning: ChainedAssignmentError: behaviour will change in pandas 3.0!\n",
      "You are setting values through chained assignment. Currently this works in certain cases, but when using Copy-on-Write (which will become the default behaviour in pandas 3.0) this will never work to update the original DataFrame or Series, because the intermediate object on which we are setting values will behave as a copy.\n",
      "A typical example is when you are setting values in a column of a DataFrame, like:\n",
      "\n",
      "df[\"col\"][row_indexer] = value\n",
      "\n",
      "Use `df.loc[row_indexer, \"col\"] = values` instead, to perform the assignment in a single step and ensure this keeps updating the original `df`.\n",
      "\n",
      "See the caveats in the documentation: https://pandas.pydata.org/pandas-docs/stable/user_guide/indexing.html#returning-a-view-versus-a-copy\n",
      "\n",
      "  hypothesis_df[continuous_column][category_column] = \"There is no relationship\"\n"
     ]
    }
   ],
   "source": [
    "ContinesColumn_result, comperativeColumn_result = hypothesisTesting(continuous_columns , category_columns)"
   ]
  },
  {
   "cell_type": "code",
   "execution_count": 13,
   "metadata": {},
   "outputs": [
    {
     "data": {
      "text/html": [
       "<div>\n",
       "<style scoped>\n",
       "    .dataframe tbody tr th:only-of-type {\n",
       "        vertical-align: middle;\n",
       "    }\n",
       "\n",
       "    .dataframe tbody tr th {\n",
       "        vertical-align: top;\n",
       "    }\n",
       "\n",
       "    .dataframe thead th {\n",
       "        text-align: right;\n",
       "    }\n",
       "</style>\n",
       "<table border=\"1\" class=\"dataframe\">\n",
       "  <thead>\n",
       "    <tr style=\"text-align: right;\">\n",
       "      <th></th>\n",
       "      <th>Study Hours</th>\n",
       "      <th>Previous Exam Score</th>\n",
       "    </tr>\n",
       "  </thead>\n",
       "  <tbody>\n",
       "    <tr>\n",
       "      <th>Population Mean</th>\n",
       "      <td>5.487055</td>\n",
       "      <td>68.917084</td>\n",
       "    </tr>\n",
       "    <tr>\n",
       "      <th>Sample Means</th>\n",
       "      <td>{5.549900539456898}</td>\n",
       "      <td>{69.24116425789006}</td>\n",
       "    </tr>\n",
       "    <tr>\n",
       "      <th>H0_accepted</th>\n",
       "      <td>59</td>\n",
       "      <td>50</td>\n",
       "    </tr>\n",
       "    <tr>\n",
       "      <th>H0_rejected</th>\n",
       "      <td>41</td>\n",
       "      <td>50</td>\n",
       "    </tr>\n",
       "    <tr>\n",
       "      <th>Conclusion</th>\n",
       "      <td>H0 is accepted, Ha is rejected, There is no si...</td>\n",
       "      <td>H0 is rejected, Ha is accepted, There is a sig...</td>\n",
       "    </tr>\n",
       "  </tbody>\n",
       "</table>\n",
       "</div>"
      ],
      "text/plain": [
       "                                                       Study Hours  \\\n",
       "Population Mean                                           5.487055   \n",
       "Sample Means                                   {5.549900539456898}   \n",
       "H0_accepted                                                     59   \n",
       "H0_rejected                                                     41   \n",
       "Conclusion       H0 is accepted, Ha is rejected, There is no si...   \n",
       "\n",
       "                                               Previous Exam Score  \n",
       "Population Mean                                          68.917084  \n",
       "Sample Means                                   {69.24116425789006}  \n",
       "H0_accepted                                                     50  \n",
       "H0_rejected                                                     50  \n",
       "Conclusion       H0 is rejected, Ha is accepted, There is a sig...  "
      ]
     },
     "execution_count": 13,
     "metadata": {},
     "output_type": "execute_result"
    }
   ],
   "source": [
    "ContinesColumn_result_df = pd.DataFrame(ContinesColumn_result)\n",
    "ContinesColumn_result_df"
   ]
  },
  {
   "cell_type": "code",
   "execution_count": 14,
   "metadata": {},
   "outputs": [
    {
     "data": {
      "text/html": [
       "<div>\n",
       "<style scoped>\n",
       "    .dataframe tbody tr th:only-of-type {\n",
       "        vertical-align: middle;\n",
       "    }\n",
       "\n",
       "    .dataframe tbody tr th {\n",
       "        vertical-align: top;\n",
       "    }\n",
       "\n",
       "    .dataframe thead th {\n",
       "        text-align: right;\n",
       "    }\n",
       "</style>\n",
       "<table border=\"1\" class=\"dataframe\">\n",
       "  <thead>\n",
       "    <tr style=\"text-align: right;\">\n",
       "      <th></th>\n",
       "      <th>Study Hours</th>\n",
       "      <th>Previous Exam Score</th>\n",
       "      <th>Pass/Fail</th>\n",
       "    </tr>\n",
       "  </thead>\n",
       "  <tbody>\n",
       "    <tr>\n",
       "      <th>Study Hours</th>\n",
       "      <td>There is a relationship</td>\n",
       "      <td>There is no relationship</td>\n",
       "      <td>There is no relationship</td>\n",
       "    </tr>\n",
       "    <tr>\n",
       "      <th>Previous Exam Score</th>\n",
       "      <td>There is no relationship</td>\n",
       "      <td>There is no relationship</td>\n",
       "      <td>There is no relationship</td>\n",
       "    </tr>\n",
       "    <tr>\n",
       "      <th>Pass/Fail</th>\n",
       "      <td>There is no relationship</td>\n",
       "      <td>There is no relationship</td>\n",
       "      <td>NaN</td>\n",
       "    </tr>\n",
       "  </tbody>\n",
       "</table>\n",
       "</div>"
      ],
      "text/plain": [
       "                                  Study Hours       Previous Exam Score  \\\n",
       "Study Hours           There is a relationship  There is no relationship   \n",
       "Previous Exam Score  There is no relationship  There is no relationship   \n",
       "Pass/Fail            There is no relationship  There is no relationship   \n",
       "\n",
       "                                    Pass/Fail  \n",
       "Study Hours          There is no relationship  \n",
       "Previous Exam Score  There is no relationship  \n",
       "Pass/Fail                                 NaN  "
      ]
     },
     "execution_count": 14,
     "metadata": {},
     "output_type": "execute_result"
    }
   ],
   "source": [
    "comperativeColumn_result"
   ]
  },
  {
   "cell_type": "markdown",
   "metadata": {},
   "source": [
    "# Data Visualization"
   ]
  },
  {
   "cell_type": "code",
   "execution_count": 17,
   "metadata": {},
   "outputs": [
    {
     "data": {
      "application/vnd.plotly.v1+json": {
       "config": {
        "plotlyServerURL": "https://plot.ly"
       },
       "data": [
        {
         "hovertemplate": "Previous Exam Score=%{x}<br>Pass/Fail=%{y}<extra></extra>",
         "legendgroup": "",
         "marker": {
          "color": "#636efa",
          "symbol": "circle"
         },
         "mode": "markers",
         "name": "",
         "orientation": "v",
         "showlegend": false,
         "type": "scatter",
         "x": [
          81.88970284118471,
          72.16578198064722,
          58.571656977179664,
          88.82770118241692,
          81.08387035323275,
          49.75701636069348,
          94.65563106963054,
          89.35223457539014,
          96.98799479751544,
          83.5431705033016,
          76.80491175614739,
          65.09458217743713,
          95.9637090012408,
          91.9638333700245,
          42.71312020637136,
          41.58201846983512,
          62.58780201268297,
          88.63319984690997,
          99.23656775889668,
          49.02501346621169,
          75.6478429211281,
          62.85345139786129,
          98.19486386887618,
          90.52713538814253,
          90.29972228266828,
          68.12158958769822,
          64.8891701402599,
          56.40442431584238,
          43.382529799055625,
          91.8833425753032,
          88.77406054780465,
          99.98306039716785,
          99.79821022443431,
          73.32590233615764,
          86.13924491083063,
          96.68594379294568,
          90.97884344064468,
          54.84088610459186,
          67.03264811860561,
          47.7495649090897,
          97.24306163552332,
          76.3704780670528,
          53.71856833020776,
          80.30204106435141,
          77.08769442747375,
          61.48976308197043,
          46.81345553197774,
          80.29439173556798,
          71.2184620542276,
          86.33910350413836,
          71.2098100667196,
          91.1308900191124,
          73.11441032646914,
          73.65627829212318,
          92.5992161595007,
          64.20897197274383,
          48.04091370703844,
          41.72696057880034,
          85.30823534041714,
          77.21857308120788,
          82.24478608595342,
          52.77784969053464,
          48.18228853520618,
          40.87267994007291,
          61.03525352839582,
          75.39506121127798,
          63.53464270598394,
          66.24849532142375,
          94.2495216696249,
          60.89532802139802,
          70.83936934958865,
          87.01918076446859,
          63.79256693927621,
          77.32520201367241,
          91.74182252480472,
          96.97123741945852,
          48.82440885574228,
          95.59525750968967,
          69.52697758477228,
          55.4946632979375,
          67.54814537429567,
          98.80195451712862,
          69.55708563957218,
          59.72509661725049,
          78.00405125900355,
          54.408737126691584,
          44.55179968651984,
          47.73278331463895,
          47.682750337466345,
          49.11416161073766,
          48.32963035896461,
          78.45248468819287,
          50.91280506394869,
          60.740036999431794,
          93.80730459436072,
          68.43769841577235,
          80.05346431126162,
          50.33919227209779,
          51.53734112852025,
          42.45211697598873,
          50.13610378432988,
          56.71542034191752,
          50.62062905660481,
          45.322152025423335,
          47.238152266036046,
          67.64672608196355,
          52.38002310434755,
          61.85619166288453,
          70.20503625129142,
          81.42368971776192,
          42.358728390465934,
          87.96462393454256,
          77.67402336945446,
          44.90554191693232,
          92.41471744640664,
          95.2523440319088,
          43.66467759129183,
          56.61265888883222,
          88.37207678758368,
          84.89558142301951,
          51.07126116138264,
          52.56095940020262,
          62.22832616748292,
          69.07137911146128,
          77.09528629181776,
          62.134818374186345,
          67.75208296798887,
          84.8482562880254,
          42.20099217343587,
          55.14621666064125,
          82.80097515307315,
          93.71241026123197,
          70.70064652693996,
          71.92680911591894,
          46.430320680386565,
          66.84474200940727,
          71.9570359873014,
          54.54823021808378,
          56.15459385696286,
          62.63704978627736,
          41.20427186666358,
          59.3247499349907,
          52.68688041979268,
          59.64984113067488,
          47.18572790915508,
          93.4316368443937,
          75.61554721324292,
          80.74613914866939,
          87.3502743164403,
          69.90653193574343,
          45.21521728524542,
          72.22639250911287,
          75.21046708125274,
          84.7263684510598,
          65.89957277378076,
          47.65481816773382,
          57.026554347923465,
          61.78493778391811,
          78.75503447989607,
          74.24669828013472,
          61.36580355387078,
          99.19091492757876,
          76.34648916141323,
          54.233607504159664,
          46.10694835722423,
          49.171548351059926,
          54.757463703070485,
          49.64088239557334,
          51.19402144307834,
          57.10571012163082,
          50.40241571768529,
          93.8059254775855,
          44.81402473969853,
          71.47068337421528,
          64.6238096193797,
          98.94271701451638,
          46.72233413008314,
          63.871335942744494,
          98.16822599652212,
          91.93042755363882,
          89.02432425695679,
          55.4741696226964,
          50.25325524340395,
          80.11859319546586,
          95.76255934765516,
          73.40577358083578,
          74.29676136819398,
          56.79874561961705,
          86.16957599151621,
          51.2226249134514,
          59.42075418425462,
          65.526186316985,
          70.4566227210673,
          54.544583944904815,
          46.89020948435221,
          76.63720254649795,
          57.31783319441534,
          74.87429328535674,
          49.26176291645214,
          68.86840611128905,
          71.95536595309515,
          43.109412209345614,
          60.196256691635234,
          48.064880616338456,
          43.80249822836606,
          99.39761394339672,
          59.34123069848338,
          88.5924667512781,
          55.27843928582583,
          80.89016333343577,
          85.61367159338118,
          75.73832443647066,
          68.2945713130095,
          64.71045484883611,
          60.93209599257972,
          95.77174865486955,
          89.83716446726375,
          97.90161463999075,
          47.45783340913268,
          83.85204851221866,
          96.30042740926228,
          50.87398396993961,
          43.98977604200665,
          84.46723895740354,
          74.46838679079471,
          90.50972660549633,
          48.38634259757737,
          87.71603871159341,
          52.09763920286467,
          49.81935657194227,
          49.85594787585958,
          88.87448321388293,
          79.911833241772,
          71.38392548614716,
          61.52982904741015,
          92.6320324487865,
          63.546706445358126,
          88.99596636829463,
          66.3480945142131,
          62.61666576549445,
          67.76078714017639,
          58.08267244984852,
          84.85656281057507,
          70.16322340554875,
          53.93276170880904,
          93.97447439647412,
          63.03347328239269,
          72.61317166683932,
          94.38832665787282,
          77.45427975483952,
          47.013882442501846,
          96.3899274168085,
          77.66248318428507,
          60.09433687942517,
          48.35632435980324,
          87.64151135621776,
          77.20436535571082,
          72.0076655185793,
          93.63355498305744,
          87.31583267347185,
          49.100492783965066,
          58.70332406773289,
          54.90934838886794,
          84.63677755436062,
          42.01194608414677,
          74.193381092279,
          85.74752114444144,
          92.60593820570496,
          60.52490492295445,
          89.27543828032077,
          46.63790421731243,
          90.7871375040711,
          47.649319739918944,
          63.83723743362204,
          87.83772194677321,
          48.99504564092643,
          53.75508371395849,
          83.33515410358397,
          83.20219219276447,
          78.46885797311784,
          81.636906668026,
          72.56346660085578,
          55.10794353441717,
          60.74175961023517,
          50.89586300808554,
          94.5070336800177,
          75.00350768596724,
          64.0510850058184,
          67.72034821864796,
          96.83700037670891,
          49.20108418696481,
          75.17378992100782,
          70.35332073306796,
          76.68725412607887,
          41.08661102925043,
          92.3274345366491,
          95.92709694901674,
          73.90799101535254,
          81.79904943261354,
          95.34996287063774,
          82.43431805880391,
          49.15234257485568,
          74.57730161000879,
          76.40290278297135,
          65.44784027814316,
          84.18665413748337,
          96.06202088614089,
          95.53411077440656,
          67.05036228424792,
          46.79428275044532,
          99.09047193774008,
          90.33388518675604,
          47.47976087219601,
          95.25051295704232,
          92.1937817237277,
          71.13028342756432,
          75.47652614469575,
          63.94016223220781,
          43.28569832932188,
          60.11183449875406,
          88.17120691588069,
          40.27792138027617,
          60.00995030146865,
          63.8901216154566,
          72.24373617627538,
          95.19133698476564,
          60.78075966195768,
          60.81719211377366,
          84.25007488658491,
          67.13307645338843,
          53.47628937639892,
          67.1463709679616,
          48.45142122278799,
          50.5832191903734,
          69.90206636436878,
          65.13552697027288,
          94.890754064086,
          61.74363394699799,
          74.8353010166826,
          77.93585727517183,
          40.78566739530002,
          79.81224232100263,
          50.68215801218509,
          97.66421904816733,
          48.91976366518678,
          64.87744742362142,
          45.12098008471863,
          99.81245511075684,
          70.13170061987455,
          75.72310103920262,
          44.02458864330565,
          84.99762822395067,
          52.594335585735145,
          93.88325736644282,
          52.30837842892044,
          51.44126323982,
          42.192980070885696,
          68.32401670659996,
          73.89046799575698,
          43.94251836570114,
          86.53165700170064,
          67.19733008488166,
          71.4634161596548,
          66.44576481629369,
          64.04578365251956,
          73.57841987849307,
          49.31441475584275,
          50.91568782971627,
          91.70713726081104,
          96.76692772801796,
          62.398558976785175,
          56.244680388613226,
          78.63997259434095,
          64.52405026588579,
          41.52318133962069,
          49.36915584197142,
          82.95833373084386,
          79.53543651460907,
          41.62575955020901,
          53.318329715976965,
          53.86448779528428,
          80.3135646159237,
          41.18263226526185,
          46.24651491907443,
          87.99496512239136,
          50.71267972326002,
          79.16476647111247,
          54.29096686280359,
          45.96648356556071,
          54.590331459967246,
          83.33601591133956,
          91.34178808637714,
          89.8131918740195,
          63.83101177710729,
          80.08510819423877,
          52.29905772494926,
          57.5888638156608,
          93.78014911126718,
          40.78011541064416,
          45.13051185126808,
          52.47317530876164,
          41.59193223242918,
          50.88612610538784,
          74.98249365818154,
          65.28547303554987,
          93.56030266461848,
          89.04661370430645,
          60.50904110187256,
          55.56540600587755,
          62.78154449003601,
          75.41769655088846,
          56.08381844937257,
          77.44893447094805,
          64.56469913147443,
          73.1228308511188,
          66.16759174811901,
          57.66794557251506,
          96.9071984177294,
          85.81634764958565,
          48.40679054598715,
          92.10807855387478,
          69.24587189497082,
          93.67313361364548,
          87.99131535683891,
          65.512810268154,
          41.348158499207045,
          56.12064156309677,
          72.49805287965202,
          78.00869318956885,
          55.47326112599214,
          48.36136444436945,
          90.09581420795794,
          99.06413084221312,
          71.54141093816115,
          50.30075715089821,
          56.338439591162135,
          41.103440592848,
          94.85792839362996,
          47.06506497340847,
          74.59098853085521,
          56.44331324123236,
          73.2506801509476,
          79.08522330111185,
          89.7845082224321,
          52.3852763056362,
          40.65974971950883,
          48.21313780412844,
          94.0011185108863,
          92.43340465375093,
          75.8447861302185,
          76.0310116260192,
          79.90220047277532,
          50.522276717406974,
          94.8647167554976,
          65.12623149352439,
          62.98831169496985,
          71.13506231697025,
          42.8179580065033,
          49.97700212536476,
          84.28201698558223,
          44.96792007550759,
          76.1891265679833,
          54.72094658087926,
          63.35773684251859,
          57.32162420624199,
          61.34036298789695,
          83.14275431105473,
          57.8273029373905,
          73.98427841781384,
          68.56302413194598,
          79.8202699217589,
          96.20978435948548,
          83.95432583261501,
          52.89642271544541,
          41.87098810367708,
          55.73584265798951,
          75.70467584201529,
          43.08554880905502,
          69.78197483207418,
          75.81057093501335,
          60.05463344901765,
          86.25473222474932,
          46.39589518802631,
          44.50826690414853,
          83.6913253722162,
          69.72947897237191,
          81.30414378566417,
          66.08964031622477,
          54.78412199434641,
          89.14613906045199,
          87.96495273813875,
          81.6817882512656,
          56.32870823379776,
          75.41384001214523,
          61.65843381640161,
          45.49492439959805,
          95.03881452773456,
          48.20911785513768,
          97.01424122924814,
          66.76034637747735
         ],
         "xaxis": "x",
         "y": [
          0,
          1,
          0,
          1,
          0,
          0,
          0,
          1,
          1,
          1,
          0,
          1,
          1,
          0,
          0,
          0,
          0,
          1,
          0,
          0,
          1,
          0,
          0,
          0,
          1,
          1,
          0,
          0,
          0,
          0,
          1,
          0,
          0,
          1,
          1,
          1,
          0,
          0,
          1,
          0,
          0,
          1,
          0,
          1,
          0,
          1,
          0,
          1,
          1,
          0,
          1,
          1,
          1,
          1,
          1,
          1,
          0,
          0,
          0,
          0,
          0,
          0,
          0,
          0,
          0,
          1,
          0,
          1,
          0,
          1,
          1,
          0,
          0,
          1,
          1,
          1,
          0,
          0,
          0,
          0,
          1,
          1,
          0,
          0,
          0,
          0,
          0,
          0,
          0,
          0,
          0,
          1,
          0,
          1,
          1,
          1,
          1,
          0,
          0,
          0,
          0,
          0,
          0,
          0,
          0,
          0,
          0,
          1,
          0,
          0,
          0,
          0,
          1,
          0,
          1,
          1,
          0,
          0,
          1,
          1,
          0,
          0,
          0,
          0,
          0,
          0,
          1,
          1,
          0,
          0,
          0,
          0,
          0,
          0,
          0,
          0,
          1,
          0,
          0,
          1,
          0,
          0,
          0,
          0,
          0,
          0,
          1,
          1,
          0,
          0,
          0,
          0,
          0,
          1,
          1,
          0,
          0,
          1,
          0,
          1,
          0,
          1,
          1,
          0,
          0,
          0,
          0,
          0,
          0,
          0,
          0,
          0,
          0,
          0,
          1,
          0,
          0,
          0,
          1,
          0,
          0,
          0,
          0,
          1,
          0,
          1,
          1,
          0,
          1,
          0,
          0,
          1,
          1,
          0,
          0,
          0,
          0,
          1,
          0,
          1,
          1,
          0,
          0,
          0,
          0,
          0,
          0,
          1,
          0,
          0,
          1,
          1,
          1,
          0,
          1,
          0,
          0,
          1,
          0,
          1,
          1,
          0,
          0,
          0,
          0,
          0,
          0,
          0,
          0,
          0,
          0,
          1,
          1,
          1,
          0,
          1,
          0,
          0,
          1,
          0,
          1,
          0,
          1,
          0,
          0,
          1,
          0,
          1,
          1,
          1,
          0,
          0,
          1,
          0,
          0,
          1,
          1,
          1,
          1,
          0,
          0,
          0,
          0,
          1,
          0,
          1,
          1,
          1,
          0,
          0,
          0,
          1,
          0,
          1,
          1,
          0,
          0,
          1,
          1,
          1,
          1,
          0,
          0,
          0,
          0,
          0,
          1,
          1,
          0,
          1,
          0,
          0,
          1,
          0,
          0,
          1,
          1,
          0,
          1,
          0,
          0,
          0,
          1,
          1,
          1,
          1,
          1,
          0,
          1,
          0,
          0,
          0,
          0,
          1,
          1,
          1,
          0,
          0,
          0,
          0,
          1,
          0,
          1,
          0,
          1,
          1,
          1,
          1,
          0,
          0,
          0,
          1,
          0,
          0,
          0,
          0,
          1,
          1,
          1,
          0,
          0,
          1,
          0,
          0,
          0,
          1,
          0,
          0,
          0,
          1,
          0,
          1,
          0,
          0,
          0,
          0,
          0,
          1,
          1,
          0,
          0,
          1,
          1,
          1,
          1,
          0,
          0,
          0,
          0,
          0,
          0,
          0,
          0,
          1,
          0,
          0,
          1,
          0,
          0,
          0,
          0,
          1,
          0,
          0,
          1,
          0,
          0,
          0,
          0,
          0,
          1,
          0,
          0,
          1,
          0,
          0,
          0,
          0,
          0,
          0,
          0,
          0,
          0,
          1,
          0,
          1,
          0,
          0,
          0,
          0,
          0,
          0,
          1,
          1,
          1,
          1,
          0,
          0,
          1,
          0,
          1,
          1,
          0,
          1,
          0,
          0,
          0,
          1,
          0,
          0,
          0,
          1,
          1,
          0,
          0,
          0,
          0,
          1,
          0,
          0,
          0,
          1,
          0,
          0,
          0,
          0,
          0,
          1,
          0,
          0,
          1,
          1,
          0,
          1,
          0,
          1,
          0,
          0,
          0,
          0,
          0,
          1,
          0,
          1,
          0,
          0,
          0,
          0,
          0,
          1,
          0,
          1,
          0,
          0,
          0,
          0,
          0,
          0,
          1,
          1,
          1,
          1,
          0,
          0,
          1,
          1,
          0,
          0,
          0,
          1,
          1,
          1,
          0,
          0,
          1,
          0,
          1,
          0,
          1,
          1
         ],
         "yaxis": "y"
        }
       ],
       "layout": {
        "legend": {
         "tracegroupgap": 0
        },
        "margin": {
         "t": 60
        },
        "template": {
         "data": {
          "bar": [
           {
            "error_x": {
             "color": "#2a3f5f"
            },
            "error_y": {
             "color": "#2a3f5f"
            },
            "marker": {
             "line": {
              "color": "#E5ECF6",
              "width": 0.5
             },
             "pattern": {
              "fillmode": "overlay",
              "size": 10,
              "solidity": 0.2
             }
            },
            "type": "bar"
           }
          ],
          "barpolar": [
           {
            "marker": {
             "line": {
              "color": "#E5ECF6",
              "width": 0.5
             },
             "pattern": {
              "fillmode": "overlay",
              "size": 10,
              "solidity": 0.2
             }
            },
            "type": "barpolar"
           }
          ],
          "carpet": [
           {
            "aaxis": {
             "endlinecolor": "#2a3f5f",
             "gridcolor": "white",
             "linecolor": "white",
             "minorgridcolor": "white",
             "startlinecolor": "#2a3f5f"
            },
            "baxis": {
             "endlinecolor": "#2a3f5f",
             "gridcolor": "white",
             "linecolor": "white",
             "minorgridcolor": "white",
             "startlinecolor": "#2a3f5f"
            },
            "type": "carpet"
           }
          ],
          "choropleth": [
           {
            "colorbar": {
             "outlinewidth": 0,
             "ticks": ""
            },
            "type": "choropleth"
           }
          ],
          "contour": [
           {
            "colorbar": {
             "outlinewidth": 0,
             "ticks": ""
            },
            "colorscale": [
             [
              0,
              "#0d0887"
             ],
             [
              0.1111111111111111,
              "#46039f"
             ],
             [
              0.2222222222222222,
              "#7201a8"
             ],
             [
              0.3333333333333333,
              "#9c179e"
             ],
             [
              0.4444444444444444,
              "#bd3786"
             ],
             [
              0.5555555555555556,
              "#d8576b"
             ],
             [
              0.6666666666666666,
              "#ed7953"
             ],
             [
              0.7777777777777778,
              "#fb9f3a"
             ],
             [
              0.8888888888888888,
              "#fdca26"
             ],
             [
              1,
              "#f0f921"
             ]
            ],
            "type": "contour"
           }
          ],
          "contourcarpet": [
           {
            "colorbar": {
             "outlinewidth": 0,
             "ticks": ""
            },
            "type": "contourcarpet"
           }
          ],
          "heatmap": [
           {
            "colorbar": {
             "outlinewidth": 0,
             "ticks": ""
            },
            "colorscale": [
             [
              0,
              "#0d0887"
             ],
             [
              0.1111111111111111,
              "#46039f"
             ],
             [
              0.2222222222222222,
              "#7201a8"
             ],
             [
              0.3333333333333333,
              "#9c179e"
             ],
             [
              0.4444444444444444,
              "#bd3786"
             ],
             [
              0.5555555555555556,
              "#d8576b"
             ],
             [
              0.6666666666666666,
              "#ed7953"
             ],
             [
              0.7777777777777778,
              "#fb9f3a"
             ],
             [
              0.8888888888888888,
              "#fdca26"
             ],
             [
              1,
              "#f0f921"
             ]
            ],
            "type": "heatmap"
           }
          ],
          "heatmapgl": [
           {
            "colorbar": {
             "outlinewidth": 0,
             "ticks": ""
            },
            "colorscale": [
             [
              0,
              "#0d0887"
             ],
             [
              0.1111111111111111,
              "#46039f"
             ],
             [
              0.2222222222222222,
              "#7201a8"
             ],
             [
              0.3333333333333333,
              "#9c179e"
             ],
             [
              0.4444444444444444,
              "#bd3786"
             ],
             [
              0.5555555555555556,
              "#d8576b"
             ],
             [
              0.6666666666666666,
              "#ed7953"
             ],
             [
              0.7777777777777778,
              "#fb9f3a"
             ],
             [
              0.8888888888888888,
              "#fdca26"
             ],
             [
              1,
              "#f0f921"
             ]
            ],
            "type": "heatmapgl"
           }
          ],
          "histogram": [
           {
            "marker": {
             "pattern": {
              "fillmode": "overlay",
              "size": 10,
              "solidity": 0.2
             }
            },
            "type": "histogram"
           }
          ],
          "histogram2d": [
           {
            "colorbar": {
             "outlinewidth": 0,
             "ticks": ""
            },
            "colorscale": [
             [
              0,
              "#0d0887"
             ],
             [
              0.1111111111111111,
              "#46039f"
             ],
             [
              0.2222222222222222,
              "#7201a8"
             ],
             [
              0.3333333333333333,
              "#9c179e"
             ],
             [
              0.4444444444444444,
              "#bd3786"
             ],
             [
              0.5555555555555556,
              "#d8576b"
             ],
             [
              0.6666666666666666,
              "#ed7953"
             ],
             [
              0.7777777777777778,
              "#fb9f3a"
             ],
             [
              0.8888888888888888,
              "#fdca26"
             ],
             [
              1,
              "#f0f921"
             ]
            ],
            "type": "histogram2d"
           }
          ],
          "histogram2dcontour": [
           {
            "colorbar": {
             "outlinewidth": 0,
             "ticks": ""
            },
            "colorscale": [
             [
              0,
              "#0d0887"
             ],
             [
              0.1111111111111111,
              "#46039f"
             ],
             [
              0.2222222222222222,
              "#7201a8"
             ],
             [
              0.3333333333333333,
              "#9c179e"
             ],
             [
              0.4444444444444444,
              "#bd3786"
             ],
             [
              0.5555555555555556,
              "#d8576b"
             ],
             [
              0.6666666666666666,
              "#ed7953"
             ],
             [
              0.7777777777777778,
              "#fb9f3a"
             ],
             [
              0.8888888888888888,
              "#fdca26"
             ],
             [
              1,
              "#f0f921"
             ]
            ],
            "type": "histogram2dcontour"
           }
          ],
          "mesh3d": [
           {
            "colorbar": {
             "outlinewidth": 0,
             "ticks": ""
            },
            "type": "mesh3d"
           }
          ],
          "parcoords": [
           {
            "line": {
             "colorbar": {
              "outlinewidth": 0,
              "ticks": ""
             }
            },
            "type": "parcoords"
           }
          ],
          "pie": [
           {
            "automargin": true,
            "type": "pie"
           }
          ],
          "scatter": [
           {
            "fillpattern": {
             "fillmode": "overlay",
             "size": 10,
             "solidity": 0.2
            },
            "type": "scatter"
           }
          ],
          "scatter3d": [
           {
            "line": {
             "colorbar": {
              "outlinewidth": 0,
              "ticks": ""
             }
            },
            "marker": {
             "colorbar": {
              "outlinewidth": 0,
              "ticks": ""
             }
            },
            "type": "scatter3d"
           }
          ],
          "scattercarpet": [
           {
            "marker": {
             "colorbar": {
              "outlinewidth": 0,
              "ticks": ""
             }
            },
            "type": "scattercarpet"
           }
          ],
          "scattergeo": [
           {
            "marker": {
             "colorbar": {
              "outlinewidth": 0,
              "ticks": ""
             }
            },
            "type": "scattergeo"
           }
          ],
          "scattergl": [
           {
            "marker": {
             "colorbar": {
              "outlinewidth": 0,
              "ticks": ""
             }
            },
            "type": "scattergl"
           }
          ],
          "scattermapbox": [
           {
            "marker": {
             "colorbar": {
              "outlinewidth": 0,
              "ticks": ""
             }
            },
            "type": "scattermapbox"
           }
          ],
          "scatterpolar": [
           {
            "marker": {
             "colorbar": {
              "outlinewidth": 0,
              "ticks": ""
             }
            },
            "type": "scatterpolar"
           }
          ],
          "scatterpolargl": [
           {
            "marker": {
             "colorbar": {
              "outlinewidth": 0,
              "ticks": ""
             }
            },
            "type": "scatterpolargl"
           }
          ],
          "scatterternary": [
           {
            "marker": {
             "colorbar": {
              "outlinewidth": 0,
              "ticks": ""
             }
            },
            "type": "scatterternary"
           }
          ],
          "surface": [
           {
            "colorbar": {
             "outlinewidth": 0,
             "ticks": ""
            },
            "colorscale": [
             [
              0,
              "#0d0887"
             ],
             [
              0.1111111111111111,
              "#46039f"
             ],
             [
              0.2222222222222222,
              "#7201a8"
             ],
             [
              0.3333333333333333,
              "#9c179e"
             ],
             [
              0.4444444444444444,
              "#bd3786"
             ],
             [
              0.5555555555555556,
              "#d8576b"
             ],
             [
              0.6666666666666666,
              "#ed7953"
             ],
             [
              0.7777777777777778,
              "#fb9f3a"
             ],
             [
              0.8888888888888888,
              "#fdca26"
             ],
             [
              1,
              "#f0f921"
             ]
            ],
            "type": "surface"
           }
          ],
          "table": [
           {
            "cells": {
             "fill": {
              "color": "#EBF0F8"
             },
             "line": {
              "color": "white"
             }
            },
            "header": {
             "fill": {
              "color": "#C8D4E3"
             },
             "line": {
              "color": "white"
             }
            },
            "type": "table"
           }
          ]
         },
         "layout": {
          "annotationdefaults": {
           "arrowcolor": "#2a3f5f",
           "arrowhead": 0,
           "arrowwidth": 1
          },
          "autotypenumbers": "strict",
          "coloraxis": {
           "colorbar": {
            "outlinewidth": 0,
            "ticks": ""
           }
          },
          "colorscale": {
           "diverging": [
            [
             0,
             "#8e0152"
            ],
            [
             0.1,
             "#c51b7d"
            ],
            [
             0.2,
             "#de77ae"
            ],
            [
             0.3,
             "#f1b6da"
            ],
            [
             0.4,
             "#fde0ef"
            ],
            [
             0.5,
             "#f7f7f7"
            ],
            [
             0.6,
             "#e6f5d0"
            ],
            [
             0.7,
             "#b8e186"
            ],
            [
             0.8,
             "#7fbc41"
            ],
            [
             0.9,
             "#4d9221"
            ],
            [
             1,
             "#276419"
            ]
           ],
           "sequential": [
            [
             0,
             "#0d0887"
            ],
            [
             0.1111111111111111,
             "#46039f"
            ],
            [
             0.2222222222222222,
             "#7201a8"
            ],
            [
             0.3333333333333333,
             "#9c179e"
            ],
            [
             0.4444444444444444,
             "#bd3786"
            ],
            [
             0.5555555555555556,
             "#d8576b"
            ],
            [
             0.6666666666666666,
             "#ed7953"
            ],
            [
             0.7777777777777778,
             "#fb9f3a"
            ],
            [
             0.8888888888888888,
             "#fdca26"
            ],
            [
             1,
             "#f0f921"
            ]
           ],
           "sequentialminus": [
            [
             0,
             "#0d0887"
            ],
            [
             0.1111111111111111,
             "#46039f"
            ],
            [
             0.2222222222222222,
             "#7201a8"
            ],
            [
             0.3333333333333333,
             "#9c179e"
            ],
            [
             0.4444444444444444,
             "#bd3786"
            ],
            [
             0.5555555555555556,
             "#d8576b"
            ],
            [
             0.6666666666666666,
             "#ed7953"
            ],
            [
             0.7777777777777778,
             "#fb9f3a"
            ],
            [
             0.8888888888888888,
             "#fdca26"
            ],
            [
             1,
             "#f0f921"
            ]
           ]
          },
          "colorway": [
           "#636efa",
           "#EF553B",
           "#00cc96",
           "#ab63fa",
           "#FFA15A",
           "#19d3f3",
           "#FF6692",
           "#B6E880",
           "#FF97FF",
           "#FECB52"
          ],
          "font": {
           "color": "#2a3f5f"
          },
          "geo": {
           "bgcolor": "white",
           "lakecolor": "white",
           "landcolor": "#E5ECF6",
           "showlakes": true,
           "showland": true,
           "subunitcolor": "white"
          },
          "hoverlabel": {
           "align": "left"
          },
          "hovermode": "closest",
          "mapbox": {
           "style": "light"
          },
          "paper_bgcolor": "white",
          "plot_bgcolor": "#E5ECF6",
          "polar": {
           "angularaxis": {
            "gridcolor": "white",
            "linecolor": "white",
            "ticks": ""
           },
           "bgcolor": "#E5ECF6",
           "radialaxis": {
            "gridcolor": "white",
            "linecolor": "white",
            "ticks": ""
           }
          },
          "scene": {
           "xaxis": {
            "backgroundcolor": "#E5ECF6",
            "gridcolor": "white",
            "gridwidth": 2,
            "linecolor": "white",
            "showbackground": true,
            "ticks": "",
            "zerolinecolor": "white"
           },
           "yaxis": {
            "backgroundcolor": "#E5ECF6",
            "gridcolor": "white",
            "gridwidth": 2,
            "linecolor": "white",
            "showbackground": true,
            "ticks": "",
            "zerolinecolor": "white"
           },
           "zaxis": {
            "backgroundcolor": "#E5ECF6",
            "gridcolor": "white",
            "gridwidth": 2,
            "linecolor": "white",
            "showbackground": true,
            "ticks": "",
            "zerolinecolor": "white"
           }
          },
          "shapedefaults": {
           "line": {
            "color": "#2a3f5f"
           }
          },
          "ternary": {
           "aaxis": {
            "gridcolor": "white",
            "linecolor": "white",
            "ticks": ""
           },
           "baxis": {
            "gridcolor": "white",
            "linecolor": "white",
            "ticks": ""
           },
           "bgcolor": "#E5ECF6",
           "caxis": {
            "gridcolor": "white",
            "linecolor": "white",
            "ticks": ""
           }
          },
          "title": {
           "x": 0.05
          },
          "xaxis": {
           "automargin": true,
           "gridcolor": "white",
           "linecolor": "white",
           "ticks": "",
           "title": {
            "standoff": 15
           },
           "zerolinecolor": "white",
           "zerolinewidth": 2
          },
          "yaxis": {
           "automargin": true,
           "gridcolor": "white",
           "linecolor": "white",
           "ticks": "",
           "title": {
            "standoff": 15
           },
           "zerolinecolor": "white",
           "zerolinewidth": 2
          }
         }
        },
        "xaxis": {
         "anchor": "y",
         "domain": [
          0,
          1
         ],
         "title": {
          "text": "Previous Exam Score"
         }
        },
        "yaxis": {
         "anchor": "x",
         "domain": [
          0,
          1
         ],
         "title": {
          "text": "Pass/Fail"
         }
        }
       }
      }
     },
     "metadata": {},
     "output_type": "display_data"
    }
   ],
   "source": [
    "fig = px.scatter(df, x = \"Previous Exam Score\", y = \"Pass/Fail\")\n",
    "fig.show()\n",
    "     "
   ]
  }
 ],
 "metadata": {
  "kernelspec": {
   "display_name": ".venv",
   "language": "python",
   "name": "python3"
  },
  "language_info": {
   "codemirror_mode": {
    "name": "ipython",
    "version": 3
   },
   "file_extension": ".py",
   "mimetype": "text/x-python",
   "name": "python",
   "nbconvert_exporter": "python",
   "pygments_lexer": "ipython3",
   "version": "3.11.9"
  }
 },
 "nbformat": 4,
 "nbformat_minor": 2
}
